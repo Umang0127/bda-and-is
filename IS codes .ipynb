{
 "cells": [
  {
   "cell_type": "code",
   "execution_count": null,
   "id": "0dbd1734",
   "metadata": {},
   "outputs": [],
   "source": []
  },
  {
   "cell_type": "code",
   "execution_count": 41,
   "id": "153cd2a5",
   "metadata": {},
   "outputs": [
    {
     "name": "stdout",
     "output_type": "stream",
     "text": [
      "x is 11\n"
     ]
    }
   ],
   "source": [
    "# chinese reminder throrem\n",
    "def findMinX(num, rem, k):\n",
    "    x=1;\n",
    "    \n",
    "    while(True):\n",
    "        j = 0;\n",
    "        while(j < k):\n",
    "            if (x % num[j] != rem[j]):\n",
    "                break;\n",
    "            j += 1;\n",
    "            \n",
    "        if (j == k):\n",
    "            return x;\n",
    "            \n",
    "        x += 1;\n",
    "            \n",
    "num = [3, 4, 5];\n",
    "rem = [2, 3, 1];\n",
    "k = len(num);\n",
    "print(\"x is\", findMinX(num, rem, k));"
   ]
  },
  {
   "cell_type": "code",
   "execution_count": 43,
   "id": "99b236bf",
   "metadata": {},
   "outputs": [
    {
     "name": "stdout",
     "output_type": "stream",
     "text": [
      "gcd( 10 , 15 ) =  5\n",
      "gcd( 35 , 10 ) =  5\n",
      "gcd( 31 , 2 ) =  1\n"
     ]
    }
   ],
   "source": [
    "# extended euclidean algo to find gcd\n",
    "def gcd(a, b):\n",
    "    if a == 0:\n",
    "        return b\n",
    "\n",
    "    return gcd(b % a, a)\n",
    "\n",
    "\n",
    "if __name__ == \"__main__\":\n",
    "    a = 10\n",
    "    b = 15\n",
    "    print(\"gcd(\", a, \",\", b, \") = \", gcd(a, b))\n",
    "\n",
    "    a = 35\n",
    "    b = 10\n",
    "    print(\"gcd(\", a, \",\", b, \") = \", gcd(a, b))\n",
    "\n",
    "    a = 31\n",
    "    b = 2\n",
    "    print(\"gcd(\", a, \",\", b, \") = \", gcd(a, b))\n",
    "\n",
    "\n"
   ]
  },
  {
   "cell_type": "code",
   "execution_count": 46,
   "id": "5979e21b",
   "metadata": {},
   "outputs": [
    {
     "name": "stdout",
     "output_type": "stream",
     "text": [
      "Message data =  12.0\n",
      "Encrypted data =  3.0\n",
      "Original Message Sent =  12.0\n"
     ]
    }
   ],
   "source": [
    "# RSA Algorithm \n",
    "\n",
    "import math\n",
    "\n",
    "\n",
    "def gcd(a, h):\n",
    "    temp = 0\n",
    "    while(1):\n",
    "        temp = a % h\n",
    "        if (temp == 0):\n",
    "            return h\n",
    "        a = h\n",
    "        h = temp\n",
    "\n",
    "p = 3\n",
    "q = 7\n",
    "n = p*q\n",
    "e = 2\n",
    "phi = (p-1)*(q-1)\n",
    "\n",
    "while (e < phi):\n",
    "\n",
    "\n",
    "    if(gcd(e, phi) == 1):\n",
    "        break\n",
    "    else:\n",
    "        e = e+1\n",
    "\n",
    "k = 2\n",
    "d = (1 + (k*phi))/e\n",
    "\n",
    "msg = 12.0\n",
    "\n",
    "print(\"Message data = \", msg)\n",
    "\n",
    "c = pow(msg, e)\n",
    "c = math.fmod(c, n)\n",
    "print(\"Encrypted data = \", c)\n",
    "\n",
    "m = pow(c, d)\n",
    "m = math.fmod(m, n)\n",
    "print(\"Original Message Sent = \", m)\n",
    "\n",
    "\n",
    "\n"
   ]
  },
  {
   "cell_type": "code",
   "execution_count": 51,
   "id": "3f0b7ea9",
   "metadata": {},
   "outputs": [
    {
     "name": "stdout",
     "output_type": "stream",
     "text": [
      "The Value of P is :23\n",
      "The Value of G is :9\n",
      "The Private Key a for Alice is :4\n",
      "The Private Key b for Bob is :3\n",
      "Secret key for the Alice is : 9\n",
      "Secret Key for the Bob is : 9\n"
     ]
    }
   ],
   "source": [
    "from random import randint\n",
    "\n",
    "if __name__ == '__main__':\n",
    "\n",
    "\n",
    "    P = 23\n",
    "\n",
    "    G = 9\n",
    "\n",
    "    print('The Value of P is :%d'%(P))\n",
    "    print('The Value of G is :%d'%(G))\n",
    "\n",
    "    a = 4\n",
    "    print('The Private Key a for Alice is :%d'%(a))\n",
    "\n",
    "\n",
    "    x = int(pow(G,a,P))\n",
    "\n",
    "\n",
    "    b = 3\n",
    "    print('The Private Key b for Bob is :%d'%(b))\n",
    "\n",
    "    y = int(pow(G,b,P))\n",
    "\n",
    "    ka = int(pow(y,a,P))\n",
    "   \n",
    "\n",
    "    kb = int(pow(x,b,P))\n",
    "    \n",
    "    print('Secret key for the Alice is : %d'%(ka))\n",
    "    print('Secret Key for the Bob is : %d'%(kb))\n"
   ]
  },
  {
   "cell_type": "code",
   "execution_count": null,
   "id": "2f5abf1e",
   "metadata": {},
   "outputs": [],
   "source": []
  },
  {
   "cell_type": "code",
   "execution_count": null,
   "id": "55eaf34e",
   "metadata": {},
   "outputs": [],
   "source": []
  }
 ],
 "metadata": {
  "kernelspec": {
   "display_name": "Python 3 (ipykernel)",
   "language": "python",
   "name": "python3"
  },
  "language_info": {
   "codemirror_mode": {
    "name": "ipython",
    "version": 3
   },
   "file_extension": ".py",
   "mimetype": "text/x-python",
   "name": "python",
   "nbconvert_exporter": "python",
   "pygments_lexer": "ipython3",
   "version": "3.9.12"
  }
 },
 "nbformat": 4,
 "nbformat_minor": 5
}
